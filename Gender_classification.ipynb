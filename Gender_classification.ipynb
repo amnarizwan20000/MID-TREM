{
  "nbformat": 4,
  "nbformat_minor": 0,
  "metadata": {
    "colab": {
      "provenance": []
    },
    "kernelspec": {
      "name": "python3",
      "display_name": "Python 3"
    },
    "language_info": {
      "name": "python"
    }
  },
  "cells": [
    {
      "cell_type": "code",
      "execution_count": 2,
      "metadata": {
        "colab": {
          "base_uri": "https://localhost:8080/"
        },
        "id": "9TASolTQULOr",
        "outputId": "b5ac221c-bdb6-4031-e0f4-b6ee58b15b6d"
      },
      "outputs": [
        {
          "output_type": "stream",
          "name": "stdout",
          "text": [
            "done\n"
          ]
        }
      ],
      "source": [
        "from zipfile import ZipFile\n",
        "file_name='/content/archive (4).zip'\n",
        "\n",
        "with ZipFile(file_name, 'r') as zip:\n",
        "  zip.extractall()\n",
        "  print('done')"
      ]
    },
    {
      "cell_type": "code",
      "source": [
        "import os\n",
        "male_path = os.path.join('/content/Training/male')\n",
        "female_path = os.path.join('/content/Training/female')\n"
      ],
      "metadata": {
        "id": "meYr2LN5e1Th"
      },
      "execution_count": 3,
      "outputs": []
    },
    {
      "cell_type": "code",
      "source": [
        "!pip install keras_preprocessing"
      ],
      "metadata": {
        "colab": {
          "base_uri": "https://localhost:8080/"
        },
        "id": "mS9uGqsvpZaj",
        "outputId": "c4d425b5-bebd-4a33-cab4-43679209ca95"
      },
      "execution_count": 9,
      "outputs": [
        {
          "output_type": "stream",
          "name": "stdout",
          "text": [
            "Collecting keras_preprocessing\n",
            "  Downloading Keras_Preprocessing-1.1.2-py2.py3-none-any.whl (42 kB)\n",
            "\u001b[?25l     \u001b[90m━━━━━━━━━━━━━━━━━━━━━━━━━━━━━━━━━━━━━━━━\u001b[0m \u001b[32m0.0/42.6 kB\u001b[0m \u001b[31m?\u001b[0m eta \u001b[36m-:--:--\u001b[0m\r\u001b[2K     \u001b[90m━━━━━━━━━━━━━━━━━━━━━━━━━━━━━━━━━━━━━━━━\u001b[0m \u001b[32m42.6/42.6 kB\u001b[0m \u001b[31m1.1 MB/s\u001b[0m eta \u001b[36m0:00:00\u001b[0m\n",
            "\u001b[?25hRequirement already satisfied: numpy>=1.9.1 in /usr/local/lib/python3.10/dist-packages (from keras_preprocessing) (1.23.5)\n",
            "Requirement already satisfied: six>=1.9.0 in /usr/local/lib/python3.10/dist-packages (from keras_preprocessing) (1.16.0)\n",
            "Installing collected packages: keras_preprocessing\n",
            "Successfully installed keras_preprocessing-1.1.2\n"
          ]
        }
      ]
    },
    {
      "cell_type": "code",
      "source": [
        "from keras_preprocessing.image import ImageDataGenerator\n",
        "from tensorflow import *\n",
        "datagen = ImageDataGenerator(rescale=1/255)\n",
        "\n",
        "train_generator = datagen.flow_from_directory(\n",
        "        '/content/Training',  # This is the source directory for training images\n",
        "        target_size=(128, 128),  # All images will be resized to 128 x 128\n",
        "        batch_size=256,\n",
        "        # Since you used binary_crossentropy loss, you need binary labels\n",
        "        class_mode='binary')\n"
      ],
      "metadata": {
        "colab": {
          "base_uri": "https://localhost:8080/"
        },
        "id": "t67g_G80hSsD",
        "outputId": "108b5310-022e-4806-e9c0-09620911137d"
      },
      "execution_count": 11,
      "outputs": [
        {
          "output_type": "stream",
          "name": "stdout",
          "text": [
            "Found 47009 images belonging to 2 classes.\n"
          ]
        }
      ]
    },
    {
      "cell_type": "code",
      "source": [
        "def getNumPics():\n",
        "    print(\"The Number Of Female Pictures =\",len(os.listdir('/content/Training/female')))\n",
        "    print(\"The Number Of Male Pictures =\",len(os.listdir('/content/Training/male')))"
      ],
      "metadata": {
        "id": "MYQTrYWDnGc0"
      },
      "execution_count": 13,
      "outputs": []
    },
    {
      "cell_type": "code",
      "source": [
        "def getNumPics():\n",
        "    print(\"The Number Of Female Pictures =\",len(os.listdir('/content/Training/female')))\n",
        "    print(\"The Number Of Male Pictures =\",len(os.listdir('/content/Training/male')))\n",
        "\n",
        "def getNamePic(index,gender):\n",
        "    if gender == 'm' or gender == 'M':\n",
        "        female_name = os.listdir('/content/Training/female')\n",
        "        print(female_name[index])\n",
        "    elif gender == 'f' or gender == 'F':\n",
        "        male_name = os.listdir('/content/Training/male')\n",
        "        print(male_name[index])\n",
        "    else:\n",
        "        print(\"Invalid Input\")"
      ],
      "metadata": {
        "id": "u4jX7NBZHF7G"
      },
      "execution_count": 4,
      "outputs": []
    },
    {
      "cell_type": "code",
      "source": [
        "import matplotlib.pyplot as plt\n",
        "\n",
        "def drawPics(index):#draw some pictures(male and female) in the directory from index\n",
        "\n",
        "    rows = 4\n",
        "    cols = 4\n",
        "    fig = plt.gcf()\n",
        "    fig.set_size_inches(cols * 4, rows * 4)\n",
        "\n",
        "    index += 8\n",
        "    female_name = os.listdir('/content/Training/female')\n",
        "    male_name = os.listdir('/content/Training/male')\n",
        "    next_male_pic = [os.path.join('/content/Training/male', fname)\n",
        "                for fname in male_name[index-8:index]]\n",
        "    next_female_pic = [os.path.join('/content/Training/female', fname)\n",
        "                for fname in female_name[index-8:index]]\n",
        "\n",
        "    for i, img_path in enumerate(next_male_pic+next_female_pic):\n",
        "        # Set up subplot; subplot indices start at 1\n",
        "        sp = plt.subplot(rows, cols, i + 1)\n",
        "        sp.axis('Off') # Don't show axes (or gridlines)\n",
        "\n",
        "        img = mpimg.imread(img_path)\n",
        "        plt.imshow(img)\n",
        "\n",
        "    plt.show()"
      ],
      "metadata": {
        "id": "RGeaSxkJNPXK"
      },
      "execution_count": 7,
      "outputs": []
    },
    {
      "cell_type": "code",
      "source": [
        "def drawSoloPic(path):\n",
        "    rows = 4\n",
        "    cols = 4\n",
        "    fig = plt.gcf()\n",
        "    fig.set_size_inches(cols * 4, rows * 4)\n",
        "    sp = plt.subplot(cols, rows, 1)\n",
        "    sp.axis('Off') # Don't show axes (or gridlines)\n",
        "\n",
        "    img = mpimg.imread(path)\n",
        "    plt.imshow(img)\n",
        "\n",
        "    plt.show()"
      ],
      "metadata": {
        "id": "Jw5kDptvNuMR"
      },
      "execution_count": 8,
      "outputs": []
    },
    {
      "cell_type": "code",
      "source": [
        "import tensorflow as tf\n",
        "model = tf.keras.models.Sequential([\n",
        "    tf.keras.layers.Conv2D(16,(3,3),activation='relu',input_shape=(128,128,3)),\n",
        "    tf.keras.layers.MaxPooling2D(2,2),\n",
        "    tf.keras.layers.Conv2D(32,(3,3),activation='relu'),\n",
        "    tf.keras.layers.MaxPooling2D(2,2),\n",
        "    tf.keras.layers.Conv2D(32,(3,3),activation='relu'),\n",
        "    tf.keras.layers.MaxPooling2D(2,2),\n",
        "    tf.keras.layers.Conv2D(64,(3,3),activation='relu'),\n",
        "    tf.keras.layers.MaxPooling2D(2,2),\n",
        "    tf.keras.layers.Conv2D(64,(3,3),activation='relu'),\n",
        "    tf.keras.layers.MaxPooling2D(2,2),\n",
        "    tf.keras.layers.Flatten(),\n",
        "    tf.keras.layers.Dense(128,activation='relu'),\n",
        "    tf.keras.layers.Dense(1,activation='sigmoid')\n",
        "])\n",
        "model.summary()"
      ],
      "metadata": {
        "colab": {
          "base_uri": "https://localhost:8080/"
        },
        "id": "Rvr-0GjGOpX_",
        "outputId": "96fe7817-fd4a-4f9b-d62b-94bfbd2b050b"
      },
      "execution_count": 9,
      "outputs": [
        {
          "output_type": "stream",
          "name": "stdout",
          "text": [
            "Model: \"sequential\"\n",
            "_________________________________________________________________\n",
            " Layer (type)                Output Shape              Param #   \n",
            "=================================================================\n",
            " conv2d (Conv2D)             (None, 126, 126, 16)      448       \n",
            "                                                                 \n",
            " max_pooling2d (MaxPooling2D  (None, 63, 63, 16)       0         \n",
            " )                                                               \n",
            "                                                                 \n",
            " conv2d_1 (Conv2D)           (None, 61, 61, 32)        4640      \n",
            "                                                                 \n",
            " max_pooling2d_1 (MaxPooling  (None, 30, 30, 32)       0         \n",
            " 2D)                                                             \n",
            "                                                                 \n",
            " conv2d_2 (Conv2D)           (None, 28, 28, 32)        9248      \n",
            "                                                                 \n",
            " max_pooling2d_2 (MaxPooling  (None, 14, 14, 32)       0         \n",
            " 2D)                                                             \n",
            "                                                                 \n",
            " conv2d_3 (Conv2D)           (None, 12, 12, 64)        18496     \n",
            "                                                                 \n",
            " max_pooling2d_3 (MaxPooling  (None, 6, 6, 64)         0         \n",
            " 2D)                                                             \n",
            "                                                                 \n",
            " conv2d_4 (Conv2D)           (None, 4, 4, 64)          36928     \n",
            "                                                                 \n",
            " max_pooling2d_4 (MaxPooling  (None, 2, 2, 64)         0         \n",
            " 2D)                                                             \n",
            "                                                                 \n",
            " flatten (Flatten)           (None, 256)               0         \n",
            "                                                                 \n",
            " dense (Dense)               (None, 128)               32896     \n",
            "                                                                 \n",
            " dense_1 (Dense)             (None, 1)                 129       \n",
            "                                                                 \n",
            "=================================================================\n",
            "Total params: 102,785\n",
            "Trainable params: 102,785\n",
            "Non-trainable params: 0\n",
            "_________________________________________________________________\n"
          ]
        }
      ]
    },
    {
      "cell_type": "code",
      "source": [
        "from keras.preprocessing import image\n",
        "import matplotlib.image as mpimg\n",
        "# predicting images\n",
        "#path = filedialog.askopenfilename()\n",
        "path = './Test/1.jpg'\n",
        "img = image.load_img(path, target_size=(128, 128))\n",
        "x = image.img_to_array(img)\n",
        "x /= 255\n",
        "x = np.expand_dims(x, axis=0)\n",
        "\n",
        "images = np.vstack([x])\n",
        "classes = model.predict(images, batch_size=1)\n",
        "drawSoloPic(path)\n",
        "if classes[0]>0.5:\n",
        "    print(\"Male----------\",classes[0]*100)\n",
        "else:\n",
        "    print(\"Female----------\",100-classes[0]*100)\n",
        "\n"
      ],
      "metadata": {
        "id": "cvrQRj5GOuZA"
      },
      "execution_count": null,
      "outputs": []
    },
    {
      "cell_type": "code",
      "source": [],
      "metadata": {
        "id": "IJaH2tAaO65D"
      },
      "execution_count": null,
      "outputs": []
    }
  ]
}